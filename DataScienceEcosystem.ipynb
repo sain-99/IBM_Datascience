{
 "cells": [
  {
   "cell_type": "markdown",
   "id": "90347614-a452-4d69-8e6e-ab8ffa1300e6",
   "metadata": {},
   "source": [
    "# Data Science Tools and Ecosystem"
   ]
  },
  {
   "cell_type": "markdown",
   "id": "eae3c097-c049-463c-9f10-ae030e77a436",
   "metadata": {},
   "source": [
    "## In this notebook, Data Science Tools and Ecosystem are summarized."
   ]
  },
  {
   "cell_type": "markdown",
   "id": "93a33f5e-8299-4f40-9cdf-1547010d183d",
   "metadata": {},
   "source": [
    "Some of the popular languages that Data Scientists use are: <br>1. Python 2. R<br> 3. C++ <br>4. Julia<br> 5. Scala <br>6. SQL <br>and many more"
   ]
  },
  {
   "cell_type": "markdown",
   "id": "2601eab6-6f74-4014-ae06-93805cad3067",
   "metadata": {},
   "source": [
    "Some of the commonly used libraries used by Data Scientists include: <br>1. Python 2. R<br> 3. C++ <br>4. Julia<br> 5. Scala <br>6. SQL <br>and many more"
   ]
  },
  {
   "cell_type": "markdown",
   "id": "526f6540-492f-49c7-97bb-09e183575eed",
   "metadata": {},
   "source": [
    "|Data Science Tools |\n",
    "| :-- | \n",
    "| Jupyter Notebooks |\n",
    "| R Studio |\n",
    "| Zepplin |\n",
    "| JupyterLab |\n",
    "| Spyder |"
   ]
  },
  {
   "cell_type": "markdown",
   "id": "aa2029d3-8867-4b77-bad7-dab7edd364a0",
   "metadata": {},
   "source": [
    "### Below are a few examples of evaluating arithmetic expressions in Python."
   ]
  },
  {
   "cell_type": "code",
   "execution_count": 3,
   "id": "16a1237e-b34f-4425-bdec-9f96694a3274",
   "metadata": {},
   "outputs": [
    {
     "name": "stdout",
     "output_type": "stream",
     "text": [
      "17\n"
     ]
    }
   ],
   "source": [
    "#This a simple arithmetic expression to mutiply then add integers.\n",
    "a = (3 * 4) +5\n",
    "print(a)"
   ]
  },
  {
   "cell_type": "code",
   "execution_count": 7,
   "id": "35fefca6-2aa5-4ce7-b19a-4be0d5bd9153",
   "metadata": {},
   "outputs": [
    {
     "name": "stdout",
     "output_type": "stream",
     "text": [
      "200 minutes are 3 hours 20 minutes\n"
     ]
    }
   ],
   "source": [
    "#This will convert 200 minutes to hours by diving by 60.\n",
    "\n",
    "mins=200\n",
    "hrs = int(mins/60)\n",
    "mn = mins%60\n",
    "print(mins , \"minutes are\", hrs , \"hours\", mn,  \"minutes\"  )"
   ]
  },
  {
   "cell_type": "markdown",
   "id": "63eb3d15-f462-46f4-a6bd-453b753e6845",
   "metadata": {},
   "source": [
    "**Objectives:**\n",
    "* List popular languages for Data Science\n",
    "* List of popular tools for Data Science\n",
    "* Examples for evaluating arithmetic expressions in Python"
   ]
  },
  {
   "cell_type": "markdown",
   "id": "124f2ae6-e9d6-4715-9026-fdc4c89b9d8e",
   "metadata": {},
   "source": [
    "## Author\n",
    "Sina Patel"
   ]
  },
  {
   "cell_type": "code",
   "execution_count": null,
   "id": "b56a48bd-1b9f-4f83-8198-08a69171ec58",
   "metadata": {},
   "outputs": [],
   "source": []
  }
 ],
 "metadata": {
  "kernelspec": {
   "display_name": "Python",
   "language": "python",
   "name": "conda-env-python-py"
  },
  "language_info": {
   "codemirror_mode": {
    "name": "ipython",
    "version": 3
   },
   "file_extension": ".py",
   "mimetype": "text/x-python",
   "name": "python",
   "nbconvert_exporter": "python",
   "pygments_lexer": "ipython3",
   "version": "3.7.12"
  }
 },
 "nbformat": 4,
 "nbformat_minor": 5
}
